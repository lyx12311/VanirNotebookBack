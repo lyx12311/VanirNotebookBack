{
 "cells": [
  {
   "cell_type": "code",
   "execution_count": 1,
   "id": "31533c38",
   "metadata": {},
   "outputs": [],
   "source": [
    "import os \n",
    "sims = os.listdir('./')\n",
    "sims = [i for i in sims if 'x' in i]\n",
    "sims = [i for i in sims if '.txt' not in i]\n",
    "sims = [i for i in sims if '.pkl' not in i]\n",
    "simsnames = [i.split('_')[0][1:] for i in sims]\n"
   ]
  },
  {
   "cell_type": "code",
   "execution_count": 2,
   "id": "cc252a65",
   "metadata": {},
   "outputs": [],
   "source": [
    "from HeaderP import *\n",
    "import pynbody as pb\n",
    "import pynbody.filt as filt\n",
    "import os, pickle, glob"
   ]
  },
  {
   "cell_type": "code",
   "execution_count": 8,
   "id": "c35d2efe",
   "metadata": {},
   "outputs": [],
   "source": [
    "def readsimdata(simNo,Rcut,Rcut_thread,zcut_thread,disk=True):\n",
    "    if disk:\n",
    "        data=pd.read_pickle('./g'+simNo+'_z_0_decomp.pkl')\n",
    "    else:\n",
    "        data=pd.read_pickle('./g'+simNo+'_z_0.pkl')\n",
    "    data['R']=np.sqrt((data['x'])**2+data['y']**2)\n",
    "    \n",
    "    if Rcut:\n",
    "        data=data.loc[data['Rbir']<Rcut_thread].reset_index(drop=True)\n",
    "        data=data.loc[abs(data['zbir'])<zcut_thread].reset_index(drop=True)\n",
    "    data['dR']=data['R']-data['Rbir']\n",
    "    data['dz']=abs(data['z'])-abs(data['zbir'])\n",
    "    if disk:\n",
    "        data = data.loc[(data['decomp']==1)|(data['decomp']==4)].reset_index()\n",
    "    scale_fe=0.250019907951355/0.35828184923028494\n",
    "    scale_o=0.10861970484256744/0.09543676896214373\n",
    "    data['feh_scale']=data['feh']*scale_fe-0.0906638577580452+0.08980628554112494\n",
    "    data['ofe_scale']=data['ofe']*scale_o+0.08182460814714432-0.17121922547292423\n",
    "    return data\n",
    "\n",
    "\n",
    "def normalize_data(data):\n",
    "    return (data-np.mean(data))/np.std(data)\n",
    "\n",
    "def train(y, X):\n",
    "    \"\"\"\n",
    "    \n",
    "    Args:\n",
    "        y (array): An Nstar array of rotation periods.\n",
    "        X (array): An Nstar x NX array of features.\n",
    "        \n",
    "    Returns:\n",
    "        weights (array): The array of weights of length NX + 1.\n",
    "        \n",
    "    \"\"\"\n",
    "    A = np.concatenate((np.ones((len(X), 1)), X), axis=1)  # Shape: Nstars x Nfeatures (incl crossterms)\n",
    "    AT = A.T\n",
    "    ATA = np.dot(AT, A)\n",
    "    \n",
    "    weights = np.linalg.solve(ATA, np.dot(AT, y))\n",
    "    return weights\n",
    "\n",
    "import matplotlib\n",
    "from scipy import interpolate\n",
    "from scipy.interpolate import interp1d\n",
    "def getcolor(vrange,cm=plt.cm.get_cmap('viridis')):\n",
    "    cmap = cm\n",
    "    norm = matplotlib.colors.Normalize(vmin=min(vrange[:-1]), vmax=max(vrange[:-1]))\n",
    "    return [cmap(norm(i)) for i in vrange]"
   ]
  },
  {
   "cell_type": "code",
   "execution_count": 4,
   "id": "4f36d6d8",
   "metadata": {},
   "outputs": [
    {
     "name": "stdout",
     "output_type": "stream",
     "text": [
      "g2.79e12_3x6\n"
     ]
    },
    {
     "name": "stderr",
     "output_type": "stream",
     "text": [
      " 98%|█████████▊| 225/229 [01:10<00:00,  4.19it/s]/data/shared_data/anaconda3/lib/python3.8/site-packages/pynbody/analysis/cosmology.py:21: RuntimeWarning: invalid value encountered in sqrt\n",
      "  return h0 * a * np.sqrt(om_m * (a ** -3) + om_k * (a ** -2) + om_l)\n",
      "/data/shared_data/anaconda3/lib/python3.8/site-packages/pynbody/analysis/cosmology.py:171: IntegrationWarning: The occurrence of roundoff error is detected, which prevents \n",
      "  the requested tolerance from being achieved.  The error may be \n",
      "  underestimated.\n",
      "  return scipy.integrate.quad(_a_dot_recip, 0, x, (h0, omM, omL))[0] * conv\n",
      "100%|██████████| 229/229 [01:11<00:00,  3.21it/s]\n"
     ]
    }
   ],
   "source": [
    "agepickle = readsimdata(simsnames[4],True, 15, 5)\n",
    "\n",
    "for i in [4]:\n",
    "    print(sims[i])\n",
    "    simname = sims[i]\n",
    "    \n",
    "    allsnaps = glob.glob(sims[i]+'/*.?????')\n",
    "    \n",
    "    allsnaps_time = [int(i.split('.')[-1]) for i in allsnaps if (('param' not in i) and ('draco' not in i) and ('dat_' not in i) and ('79e12' not in i.split('.')[-1]))]\n",
    "    snaplookup = {int(allsnaps[i].split('.')[-1]):allsnaps[i] for i in range(len(allsnaps)) if (('param' not in allsnaps[i]) and ('draco' not in allsnaps[i]) and ('dat_' not in allsnaps[i]) and ('79e12' not in allsnaps[i].split('.')[-1]))}\n",
    "\n",
    "    sortage = sorted(allsnaps_time)\n",
    "    redshifts = np.zeros(len(sortage))\n",
    "    allages_rs = np.zeros(len(redshifts))\n",
    "    for j in trange(len(sortage)):\n",
    "        s = pb.load(snaplookup[sortage[j]])\n",
    "        h = s.properties['h']\n",
    "        ages = float(str(s.properties['time']).split(' ')[0])\n",
    "        allages_rs[j] = ages\n",
    "        try:\n",
    "            redshifts[j] = pb.analysis.cosmology.redshift(s, ages)\n",
    "        except:\n",
    "            redshifts[j] = 0"
   ]
  },
  {
   "cell_type": "code",
   "execution_count": 5,
   "id": "51bce6a3",
   "metadata": {},
   "outputs": [
    {
     "data": {
      "text/plain": [
       "(array([5.96, 5.89, 5.82, 5.75, 5.68, 5.61, 5.54, 5.47, 5.4 , 5.33, 5.26,\n",
       "        5.19, 5.11, 5.04, 4.97, 4.9 , 4.83, 4.76, 4.69, 4.62, 4.55, 4.48,\n",
       "        4.41, 4.34, 4.27, 4.2 , 4.13, 4.1 , 4.  , 3.9 , 3.8 , 3.8 , 3.7 ,\n",
       "        3.6 , 3.6 , 3.5 , 3.4 , 3.3 , 3.3 , 3.2 , 3.1 , 3.1 ]),\n",
       " array([0.56499623, 0.55470148, 0.54453824, 0.53450358, 0.52459466,\n",
       "        0.51480873, 0.50514311, 0.49559522, 0.48616254, 0.47684263,\n",
       "        0.46763312, 0.45853172, 0.44825963, 0.43938245, 0.43060657,\n",
       "        0.42192995, 0.41335062, 0.40486665, 0.39647615, 0.38817732,\n",
       "        0.37996838, 0.37184761, 0.36381332, 0.35586389, 0.34799773,\n",
       "        0.34021327, 0.33250903, 0.3292314 , 0.31840897, 0.30774188,\n",
       "        0.29722617, 0.29722617, 0.28685802, 0.27663377, 0.27663377,\n",
       "        0.26654986, 0.25660287, 0.24678949, 0.24678949, 0.23710653,\n",
       "        0.2275509 , 0.2275509 ]))"
      ]
     },
     "execution_count": 5,
     "metadata": {},
     "output_type": "execute_result"
    },
    {
     "data": {
      "image/png": "[encoded data removed]",
      "text/plain": [
       "<Figure size 720x720 with 1 Axes>"
      ]
     },
     "metadata": {
      "needs_background": "light"
     },
     "output_type": "display_data"
    }
   ],
   "source": [
    "allages_rs = 14.1-allages_rs\n",
    "m = np.array((allages_rs>3)&(allages_rs<6), dtype = bool)\n",
    "plt.plot(allages_rs[m], redshifts[m], 'ro-')\n",
    "allages_rs[m], redshifts[m]"
   ]
  },
  {
   "cell_type": "code",
   "execution_count": 6,
   "id": "969be793",
   "metadata": {},
   "outputs": [],
   "source": [
    "    \n",
    "# pick out stars between redshift 0.3-0.4\n",
    "redshifts, sortage, allages_rs = zip(*sorted(zip(np.array(redshifts)[m], np.array(sortage)[m], np.array(allages_rs)[m])))\n",
    "redshifts, sortage, allages_rs = redshifts[::-1], sortage[::-1], allages_rs[::-1]\n"
   ]
  },
  {
   "cell_type": "code",
   "execution_count": 13,
   "id": "c20eea5c",
   "metadata": {
    "scrolled": false
   },
   "outputs": [
    {
     "name": "stdout",
     "output_type": "stream",
     "text": [
      "42\n"
     ]
    },
    {
     "name": "stderr",
     "output_type": "stream",
     "text": [
      "\r",
      "  0%|          | 0/41 [00:00<?, ?it/s]"
     ]
    },
    {
     "name": "stdout",
     "output_type": "stream",
     "text": [
      "reading  g2.79e12_3x6/2.79e12.01150\n",
      "reading  g2.79e12_3x6/2.79e12.01160\n"
     ]
    },
    {
     "name": "stderr",
     "output_type": "stream",
     "text": [
      "\r",
      "  2%|▏         | 1/41 [00:01<01:11,  1.79s/it]"
     ]
    },
    {
     "name": "stdout",
     "output_type": "stream",
     "text": [
      "stars in snapshot z = 0.5650: 1811926 , stars in snapshot z = 0.5547: 1823124\n",
      "new stars born: 1749 , mean age: 5.961083609670239 , mean feh: 0.10044289360038477\n",
      "reading  g2.79e12_3x6/2.79e12.01170\n"
     ]
    },
    {
     "name": "stderr",
     "output_type": "stream",
     "text": [
      "\r",
      "  5%|▍         | 2/41 [00:02<00:50,  1.31s/it]"
     ]
    },
    {
     "name": "stdout",
     "output_type": "stream",
     "text": [
      "stars in snapshot z = 0.5547: 1823124 , stars in snapshot z = 0.5445: 1836712\n",
      "new stars born: 1799 , mean age: 5.896976858647717 , mean feh: 0.08002921385638896\n",
      "reading  g2.79e12_3x6/2.79e12.01180\n"
     ]
    },
    {
     "name": "stderr",
     "output_type": "stream",
     "text": [
      "\r",
      "  7%|▋         | 3/41 [00:03<00:48,  1.28s/it]"
     ]
    },
    {
     "name": "stdout",
     "output_type": "stream",
     "text": [
      "stars in snapshot z = 0.5445: 1836712 , stars in snapshot z = 0.5345: 1848261\n",
      "new stars born: 1303 , mean age: 5.8264274961814335 , mean feh: 0.07802120007709588\n",
      "reading  g2.79e12_3x6/2.79e12.01190\n"
     ]
    },
    {
     "name": "stderr",
     "output_type": "stream",
     "text": [
      "\r",
      " 10%|▉         | 4/41 [00:05<00:44,  1.21s/it]"
     ]
    },
    {
     "name": "stdout",
     "output_type": "stream",
     "text": [
      "stars in snapshot z = 0.5345: 1848261 , stars in snapshot z = 0.5246: 1860733\n",
      "new stars born: 1693 , mean age: 5.749615918433597 , mean feh: 0.08430493443411868\n",
      "reading  g2.79e12_3x6/2.79e12.01200\n"
     ]
    },
    {
     "name": "stderr",
     "output_type": "stream",
     "text": [
      "\r",
      " 12%|█▏        | 5/41 [00:06<00:48,  1.34s/it]"
     ]
    },
    {
     "name": "stdout",
     "output_type": "stream",
     "text": [
      "stars in snapshot z = 0.5246: 1860733 , stars in snapshot z = 0.5148: 1871169\n",
      "new stars born: 1232 , mean age: 5.681495998182043 , mean feh: 0.09565234508095743\n",
      "reading  g2.79e12_3x6/2.79e12.01210\n"
     ]
    },
    {
     "name": "stderr",
     "output_type": "stream",
     "text": [
      "\r",
      " 15%|█▍        | 6/41 [00:08<00:50,  1.46s/it]"
     ]
    },
    {
     "name": "stdout",
     "output_type": "stream",
     "text": [
      "stars in snapshot z = 0.5148: 1871169 , stars in snapshot z = 0.5051: 1882194\n",
      "new stars born: 1212 , mean age: 5.612323418614356 , mean feh: 0.10192451556504283\n",
      "reading  g2.79e12_3x6/2.79e12.01220\n"
     ]
    },
    {
     "name": "stderr",
     "output_type": "stream",
     "text": [
      "\r",
      " 17%|█▋        | 7/41 [00:09<00:50,  1.50s/it]"
     ]
    },
    {
     "name": "stdout",
     "output_type": "stream",
     "text": [
      "stars in snapshot z = 0.5051: 1882194 , stars in snapshot z = 0.4956: 1893354\n",
      "new stars born: 1821 , mean age: 5.540405688939164 , mean feh: 0.10912506050106453\n",
      "reading  g2.79e12_3x6/2.79e12.01230\n",
      "stars in snapshot z = 0.4956: 1893354 , stars in snapshot z = 0.4862: 1903933\n"
     ]
    },
    {
     "name": "stderr",
     "output_type": "stream",
     "text": [
      "\r",
      " 20%|█▉        | 8/41 [00:11<00:52,  1.59s/it]"
     ]
    },
    {
     "name": "stdout",
     "output_type": "stream",
     "text": [
      "new stars born: 1642 , mean age: 5.463043773171985 , mean feh: 0.12154660030621739\n",
      "reading  g2.79e12_3x6/2.79e12.01240\n"
     ]
    },
    {
     "name": "stderr",
     "output_type": "stream",
     "text": [
      "\r",
      " 22%|██▏       | 9/41 [00:13<00:48,  1.53s/it]"
     ]
    },
    {
     "name": "stdout",
     "output_type": "stream",
     "text": [
      "stars in snapshot z = 0.4862: 1903933 , stars in snapshot z = 0.4768: 1914449\n",
      "new stars born: 969 , mean age: 5.407305402844007 , mean feh: 0.11181651720005462\n",
      "reading  g2.79e12_3x6/2.79e12.01250\n",
      "stars in snapshot z = 0.4768: 1914449 , stars in snapshot z = 0.4676: 1926734\n",
      "new stars born: 1137 , mean age: 5.327736481690217 , mean feh: 0.11190678580277605"
     ]
    },
    {
     "name": "stderr",
     "output_type": "stream",
     "text": [
      "\r",
      " 24%|██▍       | 10/41 [00:14<00:45,  1.48s/it]"
     ]
    },
    {
     "name": "stdout",
     "output_type": "stream",
     "text": [
      "\n",
      "reading  g2.79e12_3x6/2.79e12.01260\n"
     ]
    },
    {
     "name": "stderr",
     "output_type": "stream",
     "text": [
      "\r",
      " 27%|██▋       | 11/41 [00:16<00:49,  1.63s/it]"
     ]
    },
    {
     "name": "stdout",
     "output_type": "stream",
     "text": [
      "stars in snapshot z = 0.4676: 1926734 , stars in snapshot z = 0.4585: 1937449\n",
      "new stars born: 1177 , mean age: 5.255390958085392 , mean feh: 0.10215883885575949\n",
      "reading  g2.79e12_3x6/2.79e12.01270\n"
     ]
    },
    {
     "name": "stderr",
     "output_type": "stream",
     "text": [
      "\r",
      " 29%|██▉       | 12/41 [00:17<00:43,  1.50s/it]"
     ]
    },
    {
     "name": "stdout",
     "output_type": "stream",
     "text": [
      "stars in snapshot z = 0.4585: 1937449 , stars in snapshot z = 0.4483: 1946227\n",
      "new stars born: 955 , mean age: 5.184012752314168 , mean feh: 0.11724973993579768\n",
      "reading  g2.79e12_3x6/2.79e12.01280\n"
     ]
    },
    {
     "name": "stderr",
     "output_type": "stream",
     "text": [
      "\r",
      " 32%|███▏      | 13/41 [00:18<00:39,  1.40s/it]"
     ]
    },
    {
     "name": "stdout",
     "output_type": "stream",
     "text": [
      "stars in snapshot z = 0.4483: 1946227 , stars in snapshot z = 0.4394: 1957812\n",
      "new stars born: 1170 , mean age: 5.122101203237154 , mean feh: 0.11589951154143645\n",
      "reading  g2.79e12_3x6/2.79e12.01290\n"
     ]
    },
    {
     "name": "stderr",
     "output_type": "stream",
     "text": [
      "\r",
      " 34%|███▍      | 14/41 [00:19<00:31,  1.16s/it]"
     ]
    },
    {
     "name": "stdout",
     "output_type": "stream",
     "text": [
      "stars in snapshot z = 0.4394: 1957812 , stars in snapshot z = 0.4306: 1967421\n",
      "new stars born: 737 , mean age: 5.058841216367235 , mean feh: 0.12173713920694576\n",
      "reading  g2.79e12_3x6/2.79e12.01300\n"
     ]
    },
    {
     "name": "stderr",
     "output_type": "stream",
     "text": [
      "\r",
      " 37%|███▋      | 15/41 [00:20<00:28,  1.09s/it]"
     ]
    },
    {
     "name": "stdout",
     "output_type": "stream",
     "text": [
      "stars in snapshot z = 0.4306: 1967421 , stars in snapshot z = 0.4219: 1977741\n",
      "new stars born: 976 , mean age: 4.978423321476931 , mean feh: 0.10555058619459089\n",
      "reading  g2.79e12_3x6/2.79e12.01310\n",
      "stars in snapshot z = 0.4219: 1977741 , stars in snapshot z = 0.4134: 1987185\n"
     ]
    },
    {
     "name": "stderr",
     "output_type": "stream",
     "text": [
      "\r",
      " 39%|███▉      | 16/41 [00:21<00:27,  1.09s/it]"
     ]
    },
    {
     "name": "stdout",
     "output_type": "stream",
     "text": [
      "new stars born: 1163 , mean age: 4.911278458652914 , mean feh: 0.10882348166931427\n",
      "reading  g2.79e12_3x6/2.79e12.01320\n",
      "stars in snapshot z = 0.4134: 1987185 , stars in snapshot z = 0.4049: 1996198\n"
     ]
    },
    {
     "name": "stderr",
     "output_type": "stream",
     "text": [
      "\r",
      " 41%|████▏     | 17/41 [00:22<00:27,  1.16s/it]"
     ]
    },
    {
     "name": "stdout",
     "output_type": "stream",
     "text": [
      "new stars born: 741 , mean age: 4.836191349791945 , mean feh: 0.12414149796979919\n",
      "reading  g2.79e12_3x6/2.79e12.01330\n",
      "stars in snapshot z = 0.4049: 1996198 , stars in snapshot z = 0.3965: 2005928\n"
     ]
    },
    {
     "name": "stderr",
     "output_type": "stream",
     "text": [
      "\r",
      " 44%|████▍     | 18/41 [00:23<00:22,  1.02it/s]"
     ]
    },
    {
     "name": "stdout",
     "output_type": "stream",
     "text": [
      "new stars born: 942 , mean age: 4.760517056585073 , mean feh: 0.13616280283358786\n",
      "reading  g2.79e12_3x6/2.79e12.01340\n",
      "stars in snapshot z = 0.3965: 2005928 , stars in snapshot z = 0.3882: 2014946\n"
     ]
    },
    {
     "name": "stderr",
     "output_type": "stream",
     "text": [
      "\r",
      " 46%|████▋     | 19/41 [00:23<00:19,  1.16it/s]"
     ]
    },
    {
     "name": "stdout",
     "output_type": "stream",
     "text": [
      "new stars born: 722 , mean age: 4.6980390547218285 , mean feh: 0.12389016437302053\n",
      "reading  g2.79e12_3x6/2.79e12.01350\n",
      "stars in snapshot z = 0.3882: 2014946 , stars in snapshot z = 0.3800: 2023969\n"
     ]
    },
    {
     "name": "stderr",
     "output_type": "stream",
     "text": [
      "\r",
      " 49%|████▉     | 20/41 [00:24<00:18,  1.14it/s]"
     ]
    },
    {
     "name": "stdout",
     "output_type": "stream",
     "text": [
      "new stars born: 778 , mean age: 4.626285541344033 , mean feh: 0.12409937005187524\n",
      "reading  g2.79e12_3x6/2.79e12.01360\n",
      "stars in snapshot z = 0.3800: 2023969 , stars in snapshot z = 0.3718: 2032005\n"
     ]
    },
    {
     "name": "stderr",
     "output_type": "stream",
     "text": [
      "\r",
      " 51%|█████     | 21/41 [00:25<00:18,  1.06it/s]"
     ]
    },
    {
     "name": "stdout",
     "output_type": "stream",
     "text": [
      "new stars born: 384 , mean age: 4.546594312280664 , mean feh: 0.15755582752204297\n",
      "reading  g2.79e12_3x6/2.79e12.01370\n",
      "stars in snapshot z = 0.3718: 2032005 , stars in snapshot z = 0.3638: 2042015\n"
     ]
    },
    {
     "name": "stderr",
     "output_type": "stream",
     "text": [
      "\r",
      " 54%|█████▎    | 22/41 [00:26<00:15,  1.21it/s]"
     ]
    },
    {
     "name": "stdout",
     "output_type": "stream",
     "text": [
      "new stars born: 681 , mean age: 4.486060498905012 , mean feh: 0.130109214329452\n",
      "reading  g2.79e12_3x6/2.79e12.01380\n",
      "stars in snapshot z = 0.3638: 2042015 , stars in snapshot z = 0.3559: 2050794\n"
     ]
    },
    {
     "name": "stderr",
     "output_type": "stream",
     "text": [
      "\r",
      " 56%|█████▌    | 23/41 [00:27<00:16,  1.09it/s]"
     ]
    },
    {
     "name": "stdout",
     "output_type": "stream",
     "text": [
      "new stars born: 617 , mean age: 4.409731138870223 , mean feh: 0.14338538563085085\n",
      "reading  g2.79e12_3x6/2.79e12.01390\n",
      "stars in snapshot z = 0.3559: 2050794 , stars in snapshot z = 0.3480: 2059913\n"
     ]
    },
    {
     "name": "stderr",
     "output_type": "stream",
     "text": [
      "\r",
      " 59%|█████▊    | 24/41 [00:28<00:14,  1.19it/s]"
     ]
    },
    {
     "name": "stdout",
     "output_type": "stream",
     "text": [
      "new stars born: 909 , mean age: 4.34257530925288 , mean feh: 0.13684291439527796\n",
      "reading  g2.79e12_3x6/2.79e12.01400\n",
      "stars in snapshot z = 0.3480: 2059913 , stars in snapshot z = 0.3402: 2068260\n"
     ]
    },
    {
     "name": "stderr",
     "output_type": "stream",
     "text": [
      "\r",
      " 61%|██████    | 25/41 [00:28<00:11,  1.35it/s]"
     ]
    },
    {
     "name": "stdout",
     "output_type": "stream",
     "text": [
      "new stars born: 475 , mean age: 4.280175623633623 , mean feh: 0.16633061373361394\n",
      "reading  g2.79e12_3x6/2.79e12.01410\n",
      "stars in snapshot z = 0.3402: 2068260 , stars in snapshot z = 0.3325: 2076084\n"
     ]
    },
    {
     "name": "stderr",
     "output_type": "stream",
     "text": [
      "\r",
      " 63%|██████▎   | 26/41 [00:29<00:10,  1.46it/s]"
     ]
    },
    {
     "name": "stdout",
     "output_type": "stream",
     "text": [
      "new stars born: 569 , mean age: 4.206969753783249 , mean feh: 0.15234025688248032\n",
      "reading  g2.79e12_3x6/2.79e12.01420\n",
      "stars in snapshot z = 0.3325: 2076084 , stars in snapshot z = 0.3292: 2086380\n"
     ]
    },
    {
     "name": "stderr",
     "output_type": "stream",
     "text": [
      "\r",
      " 66%|██████▌   | 27/41 [00:29<00:08,  1.56it/s]"
     ]
    },
    {
     "name": "stdout",
     "output_type": "stream",
     "text": [
      "new stars born: 1225 , mean age: 4.123271359632129 , mean feh: 0.11669647335299883\n",
      "reading  g2.79e12_3x6/2.79e12.01430\n",
      "stars in snapshot z = 0.3292: 2086380 , stars in snapshot z = 0.3184: 2094881\n"
     ]
    },
    {
     "name": "stderr",
     "output_type": "stream",
     "text": [
      "\r",
      " 68%|██████▊   | 28/41 [00:30<00:08,  1.61it/s]"
     ]
    },
    {
     "name": "stdout",
     "output_type": "stream",
     "text": [
      "new stars born: 660 , mean age: 4.066768897586687 , mean feh: 0.16262967773797532\n",
      "reading  g2.79e12_3x6/2.79e12.01440\n",
      "stars in snapshot z = 0.3184: 2094881 , stars in snapshot z = 0.3077: 2104690\n"
     ]
    },
    {
     "name": "stderr",
     "output_type": "stream",
     "text": [
      "\r",
      " 71%|███████   | 29/41 [00:31<00:07,  1.64it/s]"
     ]
    },
    {
     "name": "stdout",
     "output_type": "stream",
     "text": [
      "new stars born: 919 , mean age: 3.985334814857124 , mean feh: 0.1532015404479981\n",
      "reading  g2.79e12_3x6/2.79e12.01460\n"
     ]
    },
    {
     "name": "stderr",
     "output_type": "stream",
     "text": [
      "\r",
      " 73%|███████▎  | 30/41 [00:31<00:06,  1.65it/s]"
     ]
    },
    {
     "name": "stdout",
     "output_type": "stream",
     "text": [
      "stars in snapshot z = 0.3077: 2104690 , stars in snapshot z = 0.2972: 2125280\n",
      "new stars born: 1567 , mean age: 3.893835671920934 , mean feh: 0.13905281749277706\n",
      "reading  g2.79e12_3x6/2.79e12.01450\n",
      "stars in snapshot z = 0.2972: 2125280 , stars in snapshot z = 0.2972: 2114738\n"
     ]
    },
    {
     "name": "stderr",
     "output_type": "stream",
     "text": [
      "\r",
      " 76%|███████▌  | 31/41 [00:32<00:06,  1.48it/s]"
     ]
    },
    {
     "name": "stdout",
     "output_type": "stream",
     "text": [
      "new stars born: 0 , mean age: nan , mean feh: nan\n",
      "reading  g2.79e12_3x6/2.79e12.01470\n"
     ]
    },
    {
     "name": "stderr",
     "output_type": "stream",
     "text": [
      "\r",
      " 78%|███████▊  | 32/41 [00:33<00:06,  1.36it/s]"
     ]
    },
    {
     "name": "stdout",
     "output_type": "stream",
     "text": [
      "stars in snapshot z = 0.2972: 2114738 , stars in snapshot z = 0.2869: 2138106\n",
      "new stars born: 1438 , mean age: 3.8205363525900737 , mean feh: 0.12378206640657284\n",
      "reading  g2.79e12_3x6/2.79e12.01490\n"
     ]
    },
    {
     "name": "stderr",
     "output_type": "stream",
     "text": [
      "\r",
      " 80%|████████  | 33/41 [00:34<00:06,  1.18it/s]"
     ]
    },
    {
     "name": "stdout",
     "output_type": "stream",
     "text": [
      "stars in snapshot z = 0.2869: 2138106 , stars in snapshot z = 0.2766: 2166918\n",
      "new stars born: 2038 , mean age: 3.6718334561735646 , mean feh: 0.06957314546157423\n",
      "reading  g2.79e12_3x6/2.79e12.01480\n"
     ]
    },
    {
     "name": "stderr",
     "output_type": "stream",
     "text": [
      "\r",
      " 83%|████████▎ | 34/41 [00:35<00:05,  1.18it/s]"
     ]
    },
    {
     "name": "stdout",
     "output_type": "stream",
     "text": [
      "stars in snapshot z = 0.2766: 2166918 , stars in snapshot z = 0.2766: 2152131\n",
      "new stars born: 0 , mean age: nan , mean feh: nan\n",
      "reading  g2.79e12_3x6/2.79e12.01500\n"
     ]
    },
    {
     "name": "stderr",
     "output_type": "stream",
     "text": [
      "\r",
      " 85%|████████▌ | 35/41 [00:35<00:04,  1.35it/s]"
     ]
    },
    {
     "name": "stdout",
     "output_type": "stream",
     "text": [
      "stars in snapshot z = 0.2766: 2152131 , stars in snapshot z = 0.2665: 2182975\n",
      "new stars born: 3127 , mean age: 3.598529490809829 , mean feh: 0.06333488604649547\n",
      "reading  g2.79e12_3x6/2.79e12.01510\n"
     ]
    },
    {
     "name": "stderr",
     "output_type": "stream",
     "text": [
      "\r",
      " 88%|████████▊ | 36/41 [00:36<00:03,  1.44it/s]"
     ]
    },
    {
     "name": "stdout",
     "output_type": "stream",
     "text": [
      "stars in snapshot z = 0.2665: 2182975 , stars in snapshot z = 0.2566: 2198900\n",
      "new stars born: 1769 , mean age: 3.4901737073702295 , mean feh: 0.038996174456071876\n",
      "reading  g2.79e12_3x6/2.79e12.01530\n"
     ]
    },
    {
     "name": "stderr",
     "output_type": "stream",
     "text": [
      "\r",
      " 90%|█████████ | 37/41 [00:37<00:03,  1.05it/s]"
     ]
    },
    {
     "name": "stdout",
     "output_type": "stream",
     "text": [
      "stars in snapshot z = 0.2566: 2198900 , stars in snapshot z = 0.2468: 2232932\n",
      "new stars born: 3411 , mean age: 3.393344050862957 , mean feh: 0.04959482351267489\n",
      "reading  g2.79e12_3x6/2.79e12.01520\n"
     ]
    },
    {
     "name": "stderr",
     "output_type": "stream",
     "text": [
      "\r",
      " 93%|█████████▎| 38/41 [00:38<00:02,  1.02it/s]"
     ]
    },
    {
     "name": "stdout",
     "output_type": "stream",
     "text": [
      "stars in snapshot z = 0.2468: 2232932 , stars in snapshot z = 0.2468: 2217322\n",
      "new stars born: 0 , mean age: nan , mean feh: nan\n",
      "reading  g2.79e12_3x6/2.79e12.01540\n"
     ]
    },
    {
     "name": "stderr",
     "output_type": "stream",
     "text": [
      "\r",
      " 95%|█████████▌| 39/41 [00:39<00:01,  1.24it/s]"
     ]
    },
    {
     "name": "stdout",
     "output_type": "stream",
     "text": [
      "stars in snapshot z = 0.2468: 2217322 , stars in snapshot z = 0.2371: 2251823\n",
      "new stars born: 3082 , mean age: 3.318191319174938 , mean feh: 0.05312059329016275\n",
      "reading  g2.79e12_3x6/2.79e12.01560\n"
     ]
    },
    {
     "name": "stderr",
     "output_type": "stream",
     "text": [
      "\r",
      " 98%|█████████▊| 40/41 [00:39<00:00,  1.41it/s]"
     ]
    },
    {
     "name": "stdout",
     "output_type": "stream",
     "text": [
      "stars in snapshot z = 0.2371: 2251823 , stars in snapshot z = 0.2276: 2286032\n",
      "new stars born: 3947 , mean age: 3.17234734308414 , mean feh: 0.03678700919644449\n",
      "reading  g2.79e12_3x6/2.79e12.01550\n"
     ]
    },
    {
     "name": "stderr",
     "output_type": "stream",
     "text": [
      "100%|██████████| 41/41 [00:40<00:00,  1.00it/s]"
     ]
    },
    {
     "name": "stdout",
     "output_type": "stream",
     "text": [
      "stars in snapshot z = 0.2276: 2286032 , stars in snapshot z = 0.2276: 2267396\n",
      "new stars born: 0 , mean age: nan , mean feh: nan\n"
     ]
    },
    {
     "name": "stderr",
     "output_type": "stream",
     "text": [
      "\n"
     ]
    }
   ],
   "source": [
    "from os.path import exists\n",
    "\n",
    "print(len(redshifts))\n",
    "cols = ['iord','r','z']\n",
    "meanfeh = np.zeros(len(redshifts)-1)\n",
    "stdfeh = np.zeros(len(redshifts)-1)\n",
    "redshift_feh = np.zeros(len(redshifts)-1)\n",
    "for j in trange(len(redshifts)-1):\n",
    "    if j==0:\n",
    "        print('reading ',snaplookup[sortage[j]])\n",
    "        if exists(snaplookup[sortage[j]]+'.pkl'):\n",
    "            this_snap = pd.read_pickle(snaplookup[sortage[j]]+'.pkl')\n",
    "            try:\n",
    "                this_snap['feh_scale']\n",
    "            except:\n",
    "                this_snap = pd.merge(this_snap, agepickle[['iord', 'feh_scale']], left_on='iord', right_on='iord', how='inner')\n",
    "            \n",
    "        \n",
    "        else:\n",
    "            s = pb.load(snaplookup[sortage[j]])\n",
    "            h=s.halos()\n",
    "            pb.analysis.angmom.faceon(h[1])\n",
    "            s.physical_units()\n",
    "\n",
    "            sim = h[1]\n",
    "\n",
    "            stars = sim.s\n",
    "            this_snap = pd.DataFrame({k:stars[k] for k in cols})\n",
    "            this_snap = pd.merge(this_snap, agepickle[['iord', 'age', 'feh_scale','Rbir','zbir']], left_on='iord', right_on='iord', how='inner')\n",
    "            this_snap.to_pickle(snaplookup[sortage[j]]+'.pkl')\n",
    "        # next snapshot\n",
    "        print('reading ',snaplookup[sortage[j+1]])\n",
    "        if exists(snaplookup[sortage[j+1]]+'.pkl'):\n",
    "            this_snap1 = pd.read_pickle(snaplookup[sortage[j+1]]+'.pkl')\n",
    "            try:\n",
    "                this_snap1['feh_scale']\n",
    "            except:\n",
    "                this_snap1 = pd.merge(this_snap1, agepickle[['iord', 'feh_scale']], left_on='iord', right_on='iord', how='inner')\n",
    "            \n",
    "        else:\n",
    "            s1 = pb.load(snaplookup[sortage[j+1]])\n",
    "            h1=s1.halos()\n",
    "            pb.analysis.angmom.faceon(h1[1])\n",
    "            s1.physical_units()\n",
    "\n",
    "            sim1 = h1[1]\n",
    "\n",
    "            stars1 = sim1.s\n",
    "            this_snap1 = pd.DataFrame({k:stars1[k] for k in cols})\n",
    "            this_snap1 = pd.merge(this_snap1, agepickle[['iord', 'age', 'feh_scale','Rbir','zbir','decomp']], left_on='iord', right_on='iord', how='inner')\n",
    "            this_snap1.to_pickle(snaplookup[sortage[j+1]]+'.pkl')\n",
    "    else:\n",
    "        this_snap = this_snap1.copy(deep=True)\n",
    "\n",
    "        # next snapshot\n",
    "        print('reading ',snaplookup[sortage[j+1]])\n",
    "        if exists(snaplookup[sortage[j+1]]+'.pkl'):\n",
    "            this_snap1 = pd.read_pickle(snaplookup[sortage[j+1]]+'.pkl')\n",
    "            try:\n",
    "                this_snap1['feh_scale']\n",
    "            except:\n",
    "                this_snap1 = pd.merge(this_snap1, agepickle[['iord', 'feh_scale']], left_on='iord', right_on='iord', how='inner')\n",
    "            \n",
    "        else:\n",
    "            s1 = pb.load(snaplookup[sortage[j+1]])\n",
    "            h1=s1.halos()\n",
    "            pb.analysis.angmom.faceon(h1[1])\n",
    "            s1.physical_units()\n",
    "\n",
    "            sim1 = h1[1]\n",
    "\n",
    "            stars1 = sim1.s\n",
    "            this_snap1 = pd.DataFrame({k:stars1[k] for k in cols})\n",
    "            this_snap1 = pd.merge(this_snap1, agepickle[['iord', 'age', 'feh_scale','Rbir','zbir','decomp']], left_on='iord', right_on='iord', how='inner')\n",
    "            this_snap1.to_pickle(snaplookup[sortage[j+1]]+'.pkl')\n",
    "            \n",
    "    print('stars in snapshot z = %.4f:'%redshifts[j],len(this_snap),', stars in snapshot z = %.4f:'%redshifts[j+1],len(this_snap1))\n",
    "    # find new born stars\n",
    "    newstars = this_snap1.loc[~(this_snap1['iord'].isin(this_snap['iord']))]\n",
    "    newstars = newstars.loc[abs(newstars['r']-8)<1]\n",
    "    newstars = newstars.loc[abs(newstars['z'])<0.5]\n",
    "    newstars = newstars.loc[(newstars['age']<6)].reset_index(drop=True)\n",
    "    redshift_feh[j] = redshifts[j]\n",
    "    meanfeh[j] = np.mean(newstars['feh_scale'])\n",
    "    stdfeh[j] = np.std(newstars['feh_scale'])\n",
    "    print('new stars born:', len(newstars), ', mean age:', np.mean(newstars['age'].dropna()),', mean feh:', np.mean(newstars['feh_scale'].dropna()))\n",
    "    \n",
    "\n",
    "    # plot\n",
    "    #plt.hist(newstars['feh_scale'], bins=np.linspace(-1, 0.5, 50), color = colors[j], alpha = 0.2, density=True)\n",
    "    \n",
    "#plt.ylim([2, 14])\n",
    "#plt.xlim([-1, 0.5])\n",
    "#cb = plt.colorbar()\n",
    "#cb.set_label('redshift')"
   ]
  },
  {
   "cell_type": "code",
   "execution_count": 14,
   "id": "abb59795",
   "metadata": {},
   "outputs": [],
   "source": [
    "#(np.array(allages_rs[1:])+np.array(allages_rs[:-1]))/2"
   ]
  },
  {
   "cell_type": "code",
   "execution_count": 19,
   "id": "5bc825ff",
   "metadata": {
    "scrolled": false
   },
   "outputs": [
    {
     "data": {
      "image/png": "[encoded data removed]",
      "text/plain": [
       "<Figure size 720x576 with 1 Axes>"
      ]
     },
     "metadata": {
      "needs_background": "light"
     },
     "output_type": "display_data"
    }
   ],
   "source": [
    "xage = (np.array(allages_rs[1:])+np.array(allages_rs[:-1]))/2\n",
    "plt.figure(figsize=(10,8))\n",
    "plt.errorbar(xage, meanfeh, yerr=stdfeh, fmt='ko')\n",
    "plt.fill_between([3, 4], [-0.05, -0.05], y2=0.3 ,color='k', alpha=0.2)\n",
    "plt.xlabel('Age [Gyr]')\n",
    "plt.ylabel('[Fe/H] [dex]')\n",
    "plt.ylim([-0.05, -0.05+0.3])\n",
    "plt.xlim([3.1,5.85])\n",
    "plt.title('[Fe/H] of new stars formed between each snapshot',fontsize=20)\n",
    "plt.tight_layout()\n",
    "plt.savefig('fehsnapshot.png')"
   ]
  },
  {
   "cell_type": "code",
   "execution_count": null,
   "id": "4fce985f",
   "metadata": {},
   "outputs": [],
   "source": [
    "#5210781\n",
    "len(agepickle)"
   ]
  },
  {
   "cell_type": "code",
   "execution_count": 343,
   "id": "3b34f096",
   "metadata": {},
   "outputs": [],
   "source": [
    "s = pb.load(snaplookup[1430])\n",
    "h=s.halos()\n",
    "pb.analysis.angmom.faceon(h[1])\n",
    "s.physical_units()\n",
    "\n",
    "sim = h[1]\n",
    "\n",
    "stars = sim.s\n",
    "this_snap = pd.DataFrame({k:stars[k] for k in cols})\n",
    "this_snap = pd.merge(this_snap, agepickle[['iord', 'age', 'feh_scale','Rbir','zbir','decomp']], left_on='iord', right_on='iord', how='inner')\n",
    "this_snap.to_pickle(snaplookup[1430]+'.pkl')\n"
   ]
  },
  {
   "cell_type": "code",
   "execution_count": 344,
   "id": "e15b39d0",
   "metadata": {},
   "outputs": [],
   "source": [
    "s1 = pb.load(snaplookup[1570])\n",
    "h1=s1.halos()\n",
    "pb.analysis.angmom.faceon(h1[1])\n",
    "s1.physical_units()\n",
    "\n",
    "sim1 = h1[1]\n",
    "\n",
    "stars1 = sim1.s\n",
    "this_snap1 = pd.DataFrame({k:stars1[k] for k in cols})\n",
    "this_snap1 = pd.merge(this_snap1, agepickle[['iord', 'age', 'feh_scale','Rbir','zbir','decomp']], left_on='iord', right_on='iord', how='inner')\n",
    "this_snap1.to_pickle(snaplookup[1570]+'.pkl')\n",
    "\n"
   ]
  },
  {
   "cell_type": "code",
   "execution_count": 345,
   "id": "81662b87",
   "metadata": {},
   "outputs": [
    {
     "data": {
      "text/html": [
       "<div>\n",
       "<style scoped>\n",
       "    .dataframe tbody tr th:only-of-type {\n",
       "        vertical-align: middle;\n",
       "    }\n",
       "\n",
       "    .dataframe tbody tr th {\n",
       "        vertical-align: top;\n",
       "    }\n",
       "\n",
       "    .dataframe thead th {\n",
       "        text-align: right;\n",
       "    }\n",
       "</style>\n",
       "<table border=\"1\" class=\"dataframe\">\n",
       "  <thead>\n",
       "    <tr style=\"text-align: right;\">\n",
       "      <th></th>\n",
       "      <th>iord</th>\n",
       "      <th>r</th>\n",
       "      <th>z</th>\n",
       "      <th>age</th>\n",
       "      <th>feh_scale</th>\n",
       "      <th>Rbir</th>\n",
       "      <th>zbir</th>\n",
       "      <th>decomp</th>\n",
       "    </tr>\n",
       "  </thead>\n",
       "  <tbody>\n",
       "    <tr>\n",
       "      <th>2094881</th>\n",
       "      <td>45705536</td>\n",
       "      <td>8.776078</td>\n",
       "      <td>-0.616017</td>\n",
       "      <td>4.024058</td>\n",
       "      <td>0.060145</td>\n",
       "      <td>8.589427</td>\n",
       "      <td>0.461696</td>\n",
       "      <td>4</td>\n",
       "    </tr>\n",
       "    <tr>\n",
       "      <th>2094882</th>\n",
       "      <td>45705537</td>\n",
       "      <td>9.500857</td>\n",
       "      <td>-0.679277</td>\n",
       "      <td>4.024058</td>\n",
       "      <td>0.062435</td>\n",
       "      <td>8.745449</td>\n",
       "      <td>0.351029</td>\n",
       "      <td>4</td>\n",
       "    </tr>\n",
       "    <tr>\n",
       "      <th>2094883</th>\n",
       "      <td>45705538</td>\n",
       "      <td>13.374294</td>\n",
       "      <td>-2.041340</td>\n",
       "      <td>4.024058</td>\n",
       "      <td>-0.024249</td>\n",
       "      <td>13.797297</td>\n",
       "      <td>-0.059080</td>\n",
       "      <td>4</td>\n",
       "    </tr>\n",
       "    <tr>\n",
       "      <th>2094884</th>\n",
       "      <td>45705539</td>\n",
       "      <td>12.960760</td>\n",
       "      <td>-1.902813</td>\n",
       "      <td>4.024058</td>\n",
       "      <td>-0.015858</td>\n",
       "      <td>13.431702</td>\n",
       "      <td>0.060331</td>\n",
       "      <td>4</td>\n",
       "    </tr>\n",
       "    <tr>\n",
       "      <th>2094885</th>\n",
       "      <td>45705549</td>\n",
       "      <td>2.891767</td>\n",
       "      <td>0.030518</td>\n",
       "      <td>4.024058</td>\n",
       "      <td>0.279994</td>\n",
       "      <td>4.432331</td>\n",
       "      <td>-0.160408</td>\n",
       "      <td>1</td>\n",
       "    </tr>\n",
       "    <tr>\n",
       "      <th>...</th>\n",
       "      <td>...</td>\n",
       "      <td>...</td>\n",
       "      <td>...</td>\n",
       "      <td>...</td>\n",
       "      <td>...</td>\n",
       "      <td>...</td>\n",
       "      <td>...</td>\n",
       "      <td>...</td>\n",
       "    </tr>\n",
       "    <tr>\n",
       "      <th>2301030</th>\n",
       "      <td>46243860</td>\n",
       "      <td>2.741684</td>\n",
       "      <td>0.073710</td>\n",
       "      <td>3.036362</td>\n",
       "      <td>0.124952</td>\n",
       "      <td>2.740024</td>\n",
       "      <td>0.066165</td>\n",
       "      <td>1</td>\n",
       "    </tr>\n",
       "    <tr>\n",
       "      <th>2301031</th>\n",
       "      <td>46243861</td>\n",
       "      <td>2.765131</td>\n",
       "      <td>-0.086514</td>\n",
       "      <td>3.036362</td>\n",
       "      <td>0.123079</td>\n",
       "      <td>2.762760</td>\n",
       "      <td>-0.093998</td>\n",
       "      <td>1</td>\n",
       "    </tr>\n",
       "    <tr>\n",
       "      <th>2301032</th>\n",
       "      <td>46243874</td>\n",
       "      <td>3.537736</td>\n",
       "      <td>-0.058771</td>\n",
       "      <td>3.036362</td>\n",
       "      <td>0.156272</td>\n",
       "      <td>3.538082</td>\n",
       "      <td>-0.057191</td>\n",
       "      <td>1</td>\n",
       "    </tr>\n",
       "    <tr>\n",
       "      <th>2301033</th>\n",
       "      <td>46243875</td>\n",
       "      <td>3.424857</td>\n",
       "      <td>-0.089248</td>\n",
       "      <td>3.036362</td>\n",
       "      <td>0.192531</td>\n",
       "      <td>3.424564</td>\n",
       "      <td>-0.087671</td>\n",
       "      <td>4</td>\n",
       "    </tr>\n",
       "    <tr>\n",
       "      <th>2301034</th>\n",
       "      <td>46243876</td>\n",
       "      <td>5.935247</td>\n",
       "      <td>0.227506</td>\n",
       "      <td>3.036362</td>\n",
       "      <td>0.120886</td>\n",
       "      <td>5.931778</td>\n",
       "      <td>0.240646</td>\n",
       "      <td>4</td>\n",
       "    </tr>\n",
       "  </tbody>\n",
       "</table>\n",
       "<p>206154 rows × 8 columns</p>\n",
       "</div>"
      ],
      "text/plain": [
       "             iord          r         z       age  feh_scale       Rbir  \\\n",
       "2094881  45705536   8.776078 -0.616017  4.024058   0.060145   8.589427   \n",
       "2094882  45705537   9.500857 -0.679277  4.024058   0.062435   8.745449   \n",
       "2094883  45705538  13.374294 -2.041340  4.024058  -0.024249  13.797297   \n",
       "2094884  45705539  12.960760 -1.902813  4.024058  -0.015858  13.431702   \n",
       "2094885  45705549   2.891767  0.030518  4.024058   0.279994   4.432331   \n",
       "...           ...        ...       ...       ...        ...        ...   \n",
       "2301030  46243860   2.741684  0.073710  3.036362   0.124952   2.740024   \n",
       "2301031  46243861   2.765131 -0.086514  3.036362   0.123079   2.762760   \n",
       "2301032  46243874   3.537736 -0.058771  3.036362   0.156272   3.538082   \n",
       "2301033  46243875   3.424857 -0.089248  3.036362   0.192531   3.424564   \n",
       "2301034  46243876   5.935247  0.227506  3.036362   0.120886   5.931778   \n",
       "\n",
       "             zbir  decomp  \n",
       "2094881  0.461696       4  \n",
       "2094882  0.351029       4  \n",
       "2094883 -0.059080       4  \n",
       "2094884  0.060331       4  \n",
       "2094885 -0.160408       1  \n",
       "...           ...     ...  \n",
       "2301030  0.066165       1  \n",
       "2301031 -0.093998       1  \n",
       "2301032 -0.057191       1  \n",
       "2301033 -0.087671       4  \n",
       "2301034  0.240646       4  \n",
       "\n",
       "[206154 rows x 8 columns]"
      ]
     },
     "execution_count": 345,
     "metadata": {},
     "output_type": "execute_result"
    }
   ],
   "source": [
    "newstars = this_snap1.loc[~(this_snap1['iord'].isin(this_snap['iord'].values))]\n",
    "\n",
    "newstars\n"
   ]
  },
  {
   "cell_type": "code",
   "execution_count": 346,
   "id": "e6f35315",
   "metadata": {},
   "outputs": [
    {
     "data": {
      "text/plain": [
       "2094881    4.024058\n",
       "2094882    4.024058\n",
       "2094883    4.024058\n",
       "2094884    4.024058\n",
       "2094885    4.024058\n",
       "             ...   \n",
       "2301030    3.036362\n",
       "2301031    3.036362\n",
       "2301032    3.036362\n",
       "2301033    3.036362\n",
       "2301034    3.036362\n",
       "Name: age, Length: 206154, dtype: float64"
      ]
     },
     "execution_count": 346,
     "metadata": {},
     "output_type": "execute_result"
    }
   ],
   "source": [
    "newstars['age']"
   ]
  },
  {
   "cell_type": "code",
   "execution_count": null,
   "id": "dbefdbc3",
   "metadata": {},
   "outputs": [],
   "source": []
  }
 ],
 "metadata": {
  "kernelspec": {
   "display_name": "Python 3 (ipykernel)",
   "language": "python",
   "name": "python3"
  },
  "language_info": {
   "codemirror_mode": {
    "name": "ipython",
    "version": 3
   },
   "file_extension": ".py",
   "mimetype": "text/x-python",
   "name": "python",
   "nbconvert_exporter": "python",
   "pygments_lexer": "ipython3",
   "version": "3.8.8"
  }
 },
 "nbformat": 4,
 "nbformat_minor": 5
}
